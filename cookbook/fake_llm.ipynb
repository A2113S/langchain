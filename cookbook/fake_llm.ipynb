{
 "cells": [
  {
   "cell_type": "markdown",
   "id": "052dfe58",
   "metadata": {},
   "source": [
    "# Fake LLM\n",
    "LangChain provides a fake LLM class that can be used for testing. This allows you to mock out calls to the LLM and simulate what would happen if the LLM responded in a certain way.\n",
    "\n",
    "In this notebook we go over how to use this.\n",
    "\n",
    "We start this with using the FakeLLM in an agent."
   ]
  },
  {
   "cell_type": "code",
   "execution_count": 1,
   "id": "ef97ac4d",
   "metadata": {},
   "outputs": [],
   "source": [
    "from langchain.llms.fake import FakeListLLM"
   ]
  },
  {
   "cell_type": "code",
   "execution_count": 2,
   "id": "9a0a160f",
   "metadata": {},
   "outputs": [
    {
     "name": "stderr",
     "output_type": "stream",
     "text": [
      "C:\\Users\\tomsa\\AppData\\Local\\Packages\\PythonSoftwareFoundation.Python.3.11_qbz5n2kfra8p0\\LocalCache\\local-packages\\Python311\\site-packages\\tqdm\\auto.py:21: TqdmWarning: IProgress not found. Please update jupyter and ipywidgets. See https://ipywidgets.readthedocs.io/en/stable/user_install.html\n",
      "  from .autonotebook import tqdm as notebook_tqdm\n"
     ]
    }
   ],
   "source": [
    "from langchain.agents import AgentType, initialize_agent, load_tools"
   ]
  },
  {
   "cell_type": "code",
   "execution_count": 3,
   "id": "b272258c",
   "metadata": {},
   "outputs": [
    {
     "ename": "ImportError",
     "evalue": "This tool has been moved to langchain experiment. This tool has access to a python REPL. For best practices make sure to sandbox this tool. Read https://github.com/langchain-ai/langchain/blob/master/SECURITY.md To keep using this code as is, install langchain experimental and update relevant imports replacing 'langchain' with 'langchain_experimental'",
     "output_type": "error",
     "traceback": [
      "\u001b[1;31m---------------------------------------------------------------------------\u001b[0m",
      "\u001b[1;31mImportError\u001b[0m                               Traceback (most recent call last)",
      "\u001b[1;32mc:\\Users\\tomsa\\Dropbox\\Mirror\\Fall 2023\\CSCD01\\langchain\\docs\\docs\\modules\\model_io\\models\\llms\\fake_llm.ipynb Cell 4\u001b[0m line \u001b[0;36m1\n\u001b[1;32m----> <a href='vscode-notebook-cell:/c%3A/Users/tomsa/Dropbox/Mirror/Fall%202023/CSCD01/langchain/docs/docs/modules/model_io/models/llms/fake_llm.ipynb#W3sZmlsZQ%3D%3D?line=0'>1</a>\u001b[0m tools \u001b[39m=\u001b[39m load_tools([\u001b[39m\"\u001b[39;49m\u001b[39mpython_repl\u001b[39;49m\u001b[39m\"\u001b[39;49m])\n",
      "File \u001b[1;32m~\\Dropbox\\Mirror\\Fall 2023\\CSCD01\\langchain\\libs\\langchain\\langchain\\agents\\load_tools.py:515\u001b[0m, in \u001b[0;36mload_tools\u001b[1;34m(tool_names, llm, callbacks, **kwargs)\u001b[0m\n\u001b[0;32m    513\u001b[0m     tool_names\u001b[39m.\u001b[39mextend(requests_method_tools)\n\u001b[0;32m    514\u001b[0m \u001b[39melif\u001b[39;00m name \u001b[39min\u001b[39;00m _BASE_TOOLS:\n\u001b[1;32m--> 515\u001b[0m     tools\u001b[39m.\u001b[39mappend(_BASE_TOOLS[name]())\n\u001b[0;32m    516\u001b[0m \u001b[39melif\u001b[39;00m name \u001b[39min\u001b[39;00m _LLM_TOOLS:\n\u001b[0;32m    517\u001b[0m     \u001b[39mif\u001b[39;00m llm \u001b[39mis\u001b[39;00m \u001b[39mNone\u001b[39;00m:\n",
      "File \u001b[1;32m~\\Dropbox\\Mirror\\Fall 2023\\CSCD01\\langchain\\libs\\langchain\\langchain\\agents\\load_tools.py:83\u001b[0m, in \u001b[0;36m_get_python_repl\u001b[1;34m()\u001b[0m\n\u001b[0;32m     82\u001b[0m \u001b[39mdef\u001b[39;00m \u001b[39m_get_python_repl\u001b[39m() \u001b[39m-\u001b[39m\u001b[39m>\u001b[39m BaseTool:\n\u001b[1;32m---> 83\u001b[0m     \u001b[39mraise\u001b[39;00m \u001b[39mImportError\u001b[39;00m(\n\u001b[0;32m     84\u001b[0m         \u001b[39m\"\u001b[39m\u001b[39mThis tool has been moved to langchain experiment. \u001b[39m\u001b[39m\"\u001b[39m\n\u001b[0;32m     85\u001b[0m         \u001b[39m\"\u001b[39m\u001b[39mThis tool has access to a python REPL. \u001b[39m\u001b[39m\"\u001b[39m\n\u001b[0;32m     86\u001b[0m         \u001b[39m\"\u001b[39m\u001b[39mFor best practices make sure to sandbox this tool. \u001b[39m\u001b[39m\"\u001b[39m\n\u001b[0;32m     87\u001b[0m         \u001b[39m\"\u001b[39m\u001b[39mRead https://github.com/langchain-ai/langchain/blob/master/SECURITY.md \u001b[39m\u001b[39m\"\u001b[39m\n\u001b[0;32m     88\u001b[0m         \u001b[39m\"\u001b[39m\u001b[39mTo keep using this code as is, install langchain experimental and \u001b[39m\u001b[39m\"\u001b[39m\n\u001b[0;32m     89\u001b[0m         \u001b[39m\"\u001b[39m\u001b[39mupdate relevant imports replacing \u001b[39m\u001b[39m'\u001b[39m\u001b[39mlangchain\u001b[39m\u001b[39m'\u001b[39m\u001b[39m with \u001b[39m\u001b[39m'\u001b[39m\u001b[39mlangchain_experimental\u001b[39m\u001b[39m'\u001b[39m\u001b[39m\"\u001b[39m\n\u001b[0;32m     90\u001b[0m     )\n",
      "\u001b[1;31mImportError\u001b[0m: This tool has been moved to langchain experiment. This tool has access to a python REPL. For best practices make sure to sandbox this tool. Read https://github.com/langchain-ai/langchain/blob/master/SECURITY.md To keep using this code as is, install langchain experimental and update relevant imports replacing 'langchain' with 'langchain_experimental'"
     ]
    }
   ],
   "source": [
    "tools = load_tools([\"python_repl\"])"
   ]
  },
  {
   "cell_type": "code",
   "execution_count": 4,
   "id": "94096c4c",
   "metadata": {},
   "outputs": [],
   "source": [
    "responses = [\"Action: Python REPL\\nAction Input: print(2 + 2)\", \"Final Answer: 4\"]\n",
    "llm = FakeListLLM(responses=responses)"
   ]
  },
  {
   "cell_type": "code",
   "execution_count": 10,
   "id": "da226d02",
   "metadata": {},
   "outputs": [
    {
     "data": {
      "text/plain": [
       "'Action: Python REPL\\nAction Input: print(2 + 2)'"
      ]
     },
     "execution_count": 10,
     "metadata": {},
     "output_type": "execute_result"
    }
   ],
   "source": [
    "agent = initialize_agent(\n",
    "    tools, llm, agent=AgentType.ZERO_SHOT_REACT_DESCRIPTION, verbose=True\n",
    ")"
   ]
  },
  {
   "cell_type": "code",
   "execution_count": 18,
   "id": "44c13426",
   "metadata": {},
   "outputs": [
    {
     "name": "stdout",
     "output_type": "stream",
     "text": [
      "\n",
      "\n",
      "\u001b[1m> Entering new AgentExecutor chain...\u001b[0m\n",
      "\u001b[32;1m\u001b[1;3mAction: Python REPL\n",
      "Action Input: print(2 + 2)\u001b[0m\n",
      "Observation: \u001b[36;1m\u001b[1;3m4\n",
      "\u001b[0m\n",
      "Thought:\u001b[32;1m\u001b[1;3mFinal Answer: 4\u001b[0m\n",
      "\n",
      "\u001b[1m> Finished chain.\u001b[0m\n"
     ]
    },
    {
     "data": {
      "text/plain": [
       "'4'"
      ]
     },
     "execution_count": 18,
     "metadata": {},
     "output_type": "execute_result"
    }
   ],
   "source": [
    "agent.run(\"whats 2 + 2\")"
   ]
  },
  {
   "cell_type": "code",
   "execution_count": null,
   "id": "814c2858",
   "metadata": {},
   "outputs": [],
   "source": []
  }
 ],
 "metadata": {
  "kernelspec": {
   "display_name": "Python 3 (ipykernel)",
   "language": "python",
   "name": "python3"
  },
  "language_info": {
   "codemirror_mode": {
    "name": "ipython",
    "version": 3
   },
   "file_extension": ".py",
   "mimetype": "text/x-python",
   "name": "python",
   "nbconvert_exporter": "python",
   "pygments_lexer": "ipython3",
   "version": "3.11.6"
  }
 },
 "nbformat": 4,
 "nbformat_minor": 5
}
