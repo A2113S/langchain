{
 "cells": [
  {
   "cell_type": "markdown",
   "metadata": {},
   "source": [
    "# Closed Captioning\n",
    "Implements a feature using Langchain's image_captions.py and audio_speech_to_text.py to produce .srt files. This system will provide both subtitles and visual scene descriptions, essentially creating closed captioning.\n",
    "\n",
    "## Imports"
   ]
  },
  {
   "cell_type": "code",
   "execution_count": 5,
   "metadata": {},
   "outputs": [],
   "source": [
    "# imports for closed captioning\n",
    "import cv2\n",
    "import numpy as np\n",
    "import os\n",
    "import transformers\n",
    "transformers.logging.set_verbosity_error()\n",
    "\n",
    "from langchain.document_loaders import AssemblyAIAudioTranscriptLoader\n",
    "from langchain.document_loaders import ImageCaptionLoader\n",
    "from langchain.document_loaders.assemblyai import TranscriptFormat"
   ]
  },
  {
   "attachments": {},
   "cell_type": "markdown",
   "metadata": {},
   "source": [
    "## Object model"
   ]
  },
  {
   "cell_type": "code",
   "execution_count": null,
   "metadata": {},
   "outputs": [],
   "source": [
    "class CaptionModel:\n",
    "    def __init__(self, start_time, end_time, closed_caption):\n",
    "        self.start_time = start_time\n",
    "        self.end_time = end_time\n",
    "        self.closed_caption = closed_caption\n",
    "\n",
    "    def __str__(self):\n",
    "        return f\"start_time: {self.start_time}, end_time: {self.end_time}, closed_caption: {self.closed_caption}\""
   ]
  },
  {
   "cell_type": "markdown",
   "metadata": {},
   "source": [
    "## Video model"
   ]
  },
  {
   "cell_type": "code",
   "execution_count": 15,
   "metadata": {},
   "outputs": [],
   "source": [
    "class VideoModel:\n",
    "    def __init__(self, start_time, end_time, image_description):\n",
    "        self.start_time = start_time\n",
    "        self.end_time = end_time\n",
    "        self.image_description = image_description\n",
    "\n",
    "    def __str__(self):\n",
    "        return f\"start_time: {self.start_time}, end_time: {self.end_time}, image_description: {self.image_description}\"\n",
    "    \n",
    "    def get_start_time(self):\n",
    "        return self.start_time\n",
    "    \n",
    "    def get_end_time(self):\n",
    "        return self.end_time\n",
    "    \n",
    "    def get_image_description(self):\n",
    "        return self.image_description\n",
    "    \n",
    "    def set_start_time(self, start_time):\n",
    "        self.start_time = start_time\n",
    "\n",
    "    def set_end_time(self, end_time):\n",
    "        self.end_time = end_time\n",
    "    \n",
    "    def set_image_description(self, image_description):\n",
    "        self.image_description = image_description"
   ]
  },
  {
   "cell_type": "markdown",
   "metadata": {},
   "source": [
    "## Audio model"
   ]
  },
  {
   "cell_type": "code",
   "execution_count": 12,
   "metadata": {},
   "outputs": [],
   "source": [
    "class AudioModel:\n",
    "    def __init__(self, start_time, end_time, subtitle_text):\n",
    "        self.start_time = start_time\n",
    "        self.end_time = end_time\n",
    "        self.subtitle_text = subtitle_text\n",
    "\n",
    "    def __str__(self):\n",
    "        return f\"start_time: {self.start_time}, end_time: {self.end_time}, subtitle_text: {self.subtitle_text}\"\n",
    "    \n",
    "    def get_start_time(self):\n",
    "        return self.start_time\n",
    "    \n",
    "    def get_end_time(self):\n",
    "        return self.end_time\n",
    "    \n",
    "    def get_subtitle_text(self):\n",
    "        return self.subtitle_text\n",
    "    \n",
    "    def set_start_time(self, start_time):\n",
    "        self.start_time = start_time\n",
    "\n",
    "    def set_end_time(self, end_time):\n",
    "        self.end_time = end_time\n",
    "    \n",
    "    def set_subtitle_text(self, subtitle_text):\n",
    "        self.subtitle_text = subtitle_text"
   ]
  },
  {
   "cell_type": "markdown",
   "metadata": {},
   "source": [
    "## Audio Speech to Text"
   ]
  },
  {
   "cell_type": "code",
   "execution_count": 14,
   "metadata": {},
   "outputs": [
    {
     "name": "stdout",
     "output_type": "stream",
     "text": [
      "start_time: 00:00:00,170, end_time: 00:00:01,180, subtitle_text: That I aspire to be.\n"
     ]
    }
   ],
   "source": [
    "audio_file = \"test_data/test.mp3\"\n",
    "\n",
    "loader = AssemblyAIAudioTranscriptLoader(\n",
    "    file_path=audio_file, \n",
    "    api_key=\"f50c08e20ecd4544b175953636f0b936\", \n",
    "    transcript_format=TranscriptFormat.SUBTITLES_SRT\n",
    ")\n",
    "\n",
    "docs = loader.load()\n",
    "\n",
    "def CreateTranscriptModel(doc):\n",
    "    transcription = doc.strip().split(\"\\n\")\n",
    "    times = transcription[1].split(\" --> \")\n",
    "    start_time = times[0].strip()\n",
    "    end_time = times[1].strip()\n",
    "\n",
    "    subtitle_text = ' '.join(transcription[2:]).strip()\n",
    "\n",
    "    transcript_model = AudioModel(start_time, end_time, subtitle_text)\n",
    "\n",
    "    return transcript_model\n",
    "\n",
    "print(CreateTranscriptModel(docs[0].page_content))"
   ]
  },
  {
   "attachments": {},
   "cell_type": "markdown",
   "metadata": {},
   "source": [
    "## Video Split to Frames"
   ]
  },
  {
   "cell_type": "code",
   "execution_count": null,
   "metadata": {},
   "outputs": [],
   "source": [
    "def frame_difference(prev_frame, curr_frame, threshold=30):\n",
    "    # Compute the absolute difference between the current frame and the previous frame\n",
    "    diff = cv2.absdiff(prev_frame, curr_frame)\n",
    "    # Thresholding to get the binary image, where white represents significant difference\n",
    "    _, thresh = cv2.threshold(diff, threshold, 255, cv2.THRESH_BINARY)\n",
    "    # If there are any white pixels in thresh, the difference is significant\n",
    "    return np.any(thresh)\n",
    "\n",
    "# Initialize the video capture\n",
    "capture = cv2.VideoCapture('test_data/video_test.mp4')\n",
    "fps = capture.get(cv2.CAP_PROP_FPS)\n",
    "frame_duration = 1000 / fps\n",
    "\n",
    "video_models = []\n",
    "\n",
    "frameNr = 0\n",
    "ret, prev_frame = capture.read()\n",
    "prev_frame_gray = cv2.cvtColor(prev_frame, cv2.COLOR_BGR2GRAY) if ret else None\n",
    "prev_start_time = 0\n",
    "start_time = 0\n",
    "\n",
    "while ret:\n",
    "    end_time = prev_start_time\n",
    "    prev_start_time = capture.get(cv2.CAP_PROP_POS_MSEC)\n",
    "\n",
    "    ret, frame = capture.read()\n",
    "    if not ret:\n",
    "        start_time = end_time + frame_duration\n",
    "        break\n",
    "    \n",
    "    start_time = prev_start_time\n",
    "    # Convert to grayscale for comparison\n",
    "    frame_gray = cv2.cvtColor(frame, cv2.COLOR_BGR2GRAY)\n",
    "\n",
    "    # Compare with the previous frame\n",
    "    if frameNr == 0 or frame_difference(prev_frame_gray, frame_gray):\n",
    "        end_time = capture.get(cv2.CAP_PROP_POS_MSEC)\n",
    "        cv2.imwrite(f'test_data/output_frames/frame_{frameNr}.jpg', frame)\n",
    "        prev_frame_gray = frame_gray\n",
    "\n",
    "        video_model = VideoModel(start_time, end_time, \"\")\n",
    "        video_models.append(video_model)\n",
    "\n",
    "        frameNr += 1\n",
    "\n",
    "# Release the video capture object\n",
    "capture.release()"
   ]
  },
  {
   "cell_type": "code",
   "execution_count": 19,
   "metadata": {},
   "outputs": [
    {
     "name": "stdout",
     "output_type": "stream",
     "text": [
      "start_time: 0.0, end_time: 33.36666666666667, image_description: \n",
      "start_time: 33.36666666666667, end_time: 66.73333333333333, image_description: \n",
      "start_time: 100.10000000000001, end_time: 133.46666666666667, image_description: \n",
      "start_time: 200.20000000000002, end_time: 233.56666666666666, image_description: \n",
      "start_time: 266.93333333333334, end_time: 300.3, image_description: \n",
      "start_time: 300.3, end_time: 333.6666666666667, image_description: \n",
      "start_time: 367.03333333333336, end_time: 400.40000000000003, image_description: \n",
      "start_time: 400.40000000000003, end_time: 433.7666666666667, image_description: \n",
      "start_time: 433.7666666666667, end_time: 467.1333333333333, image_description: \n",
      "start_time: 467.1333333333333, end_time: 500.50000000000006, image_description: \n",
      "start_time: 500.50000000000006, end_time: 533.8666666666667, image_description: \n",
      "start_time: 533.8666666666667, end_time: 567.2333333333333, image_description: \n",
      "start_time: 600.6, end_time: 633.9666666666667, image_description: \n",
      "start_time: 667.3333333333334, end_time: 700.7, image_description: \n",
      "start_time: 700.7, end_time: 734.0666666666667, image_description: \n",
      "start_time: 734.0666666666667, end_time: 767.4333333333334, image_description: \n",
      "start_time: 834.1666666666667, end_time: 867.5333333333334, image_description: \n",
      "start_time: 900.9000000000001, end_time: 934.2666666666667, image_description: \n",
      "start_time: 1001.0000000000001, end_time: 1034.3666666666666, image_description: \n",
      "start_time: 1067.7333333333333, end_time: 1101.1, image_description: \n",
      "start_time: 1234.5666666666668, end_time: 1267.9333333333334, image_description: \n",
      "start_time: 1301.3000000000002, end_time: 1334.6666666666667, image_description: \n",
      "start_time: 1401.4, end_time: 1434.7666666666667, image_description: \n",
      "start_time: 1468.1333333333334, end_time: 1501.5, image_description: \n",
      "start_time: 1534.8666666666668, end_time: 1568.2333333333333, image_description: \n",
      "start_time: 1668.3333333333335, end_time: 1701.7, image_description: \n",
      "start_time: 1701.7, end_time: 1735.0666666666668, image_description: \n",
      "start_time: 1735.0666666666668, end_time: 1768.4333333333336, image_description: \n",
      "start_time: 1801.8000000000002, end_time: 1835.1666666666667, image_description: \n",
      "start_time: 1835.1666666666667, end_time: 1868.5333333333333, image_description: \n",
      "start_time: 1868.5333333333333, end_time: 1901.9, image_description: \n",
      "start_time: 1901.9, end_time: 1935.2666666666667, image_description: \n",
      "start_time: 2002.0000000000002, end_time: 2035.3666666666666, image_description: \n",
      "start_time: 2035.3666666666666, end_time: 2068.733333333333, image_description: \n",
      "start_time: 2068.733333333333, end_time: 2102.1, image_description: \n",
      "start_time: 2135.4666666666667, end_time: 2168.8333333333335, image_description: \n",
      "start_time: 2202.2, end_time: 2235.5666666666666, image_description: \n",
      "start_time: 2268.9333333333334, end_time: 2302.3, image_description: \n",
      "start_time: 2302.3, end_time: 2335.6666666666665, image_description: \n",
      "start_time: 2335.6666666666665, end_time: 2369.0333333333333, image_description: \n",
      "start_time: 2402.4, end_time: 2435.766666666667, image_description: \n",
      "start_time: 2435.766666666667, end_time: 2469.1333333333337, image_description: \n",
      "start_time: 2469.1333333333337, end_time: 2502.5, image_description: \n",
      "start_time: 2502.5, end_time: 2535.866666666667, image_description: \n",
      "start_time: 2535.866666666667, end_time: 2569.2333333333336, image_description: \n",
      "start_time: 2635.966666666667, end_time: 2669.3333333333335, image_description: \n",
      "start_time: 2702.7000000000003, end_time: 2736.066666666667, image_description: \n",
      "start_time: 2836.1666666666665, end_time: 2869.5333333333333, image_description: \n",
      "start_time: 2869.5333333333333, end_time: 2902.9, image_description: \n",
      "start_time: 2936.266666666667, end_time: 2969.633333333333, image_description: \n",
      "start_time: 3036.366666666667, end_time: 3069.7333333333336, image_description: \n",
      "start_time: 3136.4666666666667, end_time: 3169.8333333333335, image_description: \n",
      "start_time: 3570.2333333333336, end_time: 3603.6000000000004, image_description: \n"
     ]
    }
   ],
   "source": [
    "for video_model in video_models:\n",
    "    print(video_model)"
   ]
  },
  {
   "attachments": {},
   "cell_type": "markdown",
   "metadata": {},
   "source": [
    "## Image Captions"
   ]
  },
  {
   "cell_type": "code",
   "execution_count": null,
   "metadata": {},
   "outputs": [],
   "source": [
    "# Define the path to the \"output_frames\" folder\n",
    "folder_path = \"test_data/output_frames/\"\n",
    "\n",
    "# List all .jpg files in the folder\n",
    "image_files = [os.path.join(folder_path, file) for file in os.listdir(folder_path) if file.endswith(\".jpg\")]\n",
    "\n",
    "# Create an instance of the ImageCaptionLoader\n",
    "loader = ImageCaptionLoader(images=image_files)\n",
    "\n",
    "# Load captions for the images\n",
    "list_docs = loader.load()\n",
    "list_docs"
   ]
  }
 ],
 "metadata": {
  "kernelspec": {
   "display_name": "Python 3",
   "language": "python",
   "name": "python3"
  },
  "language_info": {
   "codemirror_mode": {
    "name": "ipython",
    "version": 3
   },
   "file_extension": ".py",
   "mimetype": "text/x-python",
   "name": "python",
   "nbconvert_exporter": "python",
   "pygments_lexer": "ipython3",
   "version": "3.11.6"
  },
  "vscode": {
   "interpreter": {
    "hash": "b0fa6594d8f4cbf19f97940f81e996739fb7646882a419484c72d19e05852a7e"
   }
  }
 },
 "nbformat": 4,
 "nbformat_minor": 2
}
