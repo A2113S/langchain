{
 "cells": [
  {
   "cell_type": "markdown",
   "metadata": {},
   "source": [
    "# Closed Captioning\n",
    "Implements a feature using Langchain's image_captions.py and audio_speech_to_text.py to produce .srt files. This system will provide both subtitles and visual scene descriptions, essentially creating closed captioning.\n",
    "\n",
    "## Imports"
   ]
  },
  {
   "cell_type": "code",
   "execution_count": 1,
   "metadata": {},
   "outputs": [],
   "source": [
    "# imports for closed captioning\n",
    "import cv2\n",
    "import numpy as np\n",
    "import os\n",
    "import transformers\n",
    "transformers.logging.set_verbosity_error()\n",
    "\n",
    "from langchain.document_loaders import AssemblyAIAudioTranscriptLoader\n",
    "from langchain.document_loaders import ImageCaptionLoader\n",
    "from langchain.document_loaders.assemblyai import TranscriptFormat"
   ]
  },
  {
   "attachments": {},
   "cell_type": "markdown",
   "metadata": {},
   "source": [
    "## Object model"
   ]
  },
  {
   "cell_type": "code",
   "execution_count": null,
   "metadata": {},
   "outputs": [],
   "source": [
    "class CaptionModel:\n",
    "    def __init__(self, start_time, end_time, closed_caption):\n",
    "        self.start_time = start_time\n",
    "        self.end_time = end_time\n",
    "        self.closed_caption = closed_caption\n",
    "\n",
    "    def __str__(self):\n",
    "        return f\"start_time: {self.start_time}, end_time: {self.end_time}, closed_caption: {self.closed_caption}\""
   ]
  },
  {
   "cell_type": "markdown",
   "metadata": {},
   "source": [
    "## Video model"
   ]
  },
  {
   "cell_type": "code",
   "execution_count": 5,
   "metadata": {},
   "outputs": [],
   "source": [
    "class VideoModel:\n",
    "    def __init__(self, start_time, end_time, image_description):\n",
    "        self.start_time = start_time\n",
    "        self.end_time = end_time\n",
    "        self.image_description = image_description\n",
    "\n",
    "    def __str__(self):\n",
    "        return f\"start_time: {self.start_time}, end_time: {self.end_time}, image_description: {self.image_description}\"\n",
    "    \n",
    "    def get_start_time(self):\n",
    "        return self.start_time\n",
    "    \n",
    "    def get_end_time(self):\n",
    "        return self.end_time\n",
    "    \n",
    "    def get_image_description(self):\n",
    "        return self.image_description\n",
    "    \n",
    "    def set_start_time(self, start_time):\n",
    "        self.start_time = start_time\n",
    "\n",
    "    def set_end_time(self, end_time):\n",
    "        self.end_time = end_time\n",
    "    \n",
    "    def set_image_description(self, image_description):\n",
    "        self.image_description = image_description"
   ]
  },
  {
   "cell_type": "markdown",
   "metadata": {},
   "source": [
    "## Audio model"
   ]
  },
  {
   "cell_type": "code",
   "execution_count": 12,
   "metadata": {},
   "outputs": [],
   "source": [
    "class AudioModel:\n",
    "    def __init__(self, start_time, end_time, subtitle_text):\n",
    "        self.start_time = start_time\n",
    "        self.end_time = end_time\n",
    "        self.subtitle_text = subtitle_text\n",
    "\n",
    "    def __str__(self):\n",
    "        return f\"start_time: {self.start_time}, end_time: {self.end_time}, subtitle_text: {self.subtitle_text}\"\n",
    "    \n",
    "    def get_start_time(self):\n",
    "        return self.start_time\n",
    "    \n",
    "    def get_end_time(self):\n",
    "        return self.end_time\n",
    "    \n",
    "    def get_subtitle_text(self):\n",
    "        return self.subtitle_text\n",
    "    \n",
    "    def set_start_time(self, start_time):\n",
    "        self.start_time = start_time\n",
    "\n",
    "    def set_end_time(self, end_time):\n",
    "        self.end_time = end_time\n",
    "    \n",
    "    def set_subtitle_text(self, subtitle_text):\n",
    "        self.subtitle_text = subtitle_text"
   ]
  },
  {
   "cell_type": "markdown",
   "metadata": {},
   "source": [
    "## Audio Speech to Text"
   ]
  },
  {
   "cell_type": "code",
   "execution_count": null,
   "metadata": {},
   "outputs": [],
   "source": [
    "audio_file = \"test_data/test.mp3\"\n",
    "\n",
    "loader = AssemblyAIAudioTranscriptLoader(\n",
    "    file_path=audio_file, \n",
    "    api_key=\"f50c08e20ecd4544b175953636f0b936\", \n",
    "    transcript_format=TranscriptFormat.SUBTITLES_SRT\n",
    ")\n",
    "\n",
    "docs = loader.load()\n",
    "\n",
    "def CreateTranscriptModel(doc):\n",
    "    transcription = doc.strip().split(\"\\n\")\n",
    "    times = transcription[1].split(\" --> \")\n",
    "    start_time = times[0].strip()\n",
    "    end_time = times[1].strip()\n",
    "\n",
    "    subtitle_text = ' '.join(transcription[2:]).strip()\n",
    "\n",
    "    transcript_model = AudioModel(start_time, end_time, subtitle_text)\n",
    "\n",
    "    return transcript_model\n",
    "\n",
    "print(CreateTranscriptModel(docs[0].page_content))"
   ]
  },
  {
   "attachments": {},
   "cell_type": "markdown",
   "metadata": {},
   "source": [
    "## Video Split to Frames"
   ]
  },
  {
   "cell_type": "code",
   "execution_count": 13,
   "metadata": {},
   "outputs": [],
   "source": [
    "def frame_difference(prev_frame, curr_frame, threshold=30):\n",
    "    # Compute the absolute difference between the current frame and the previous frame\n",
    "    diff = cv2.absdiff(prev_frame, curr_frame)\n",
    "    # Thresholding to get the binary image, where white represents significant difference\n",
    "    _, thresh = cv2.threshold(diff, threshold, 255, cv2.THRESH_BINARY)\n",
    "    # If there are any white pixels in thresh, the difference is significant\n",
    "    return np.any(thresh)\n",
    "\n",
    "# Initialize the video capture\n",
    "capture = cv2.VideoCapture('test_data/video_test.mp4')\n",
    "fps = capture.get(cv2.CAP_PROP_FPS)\n",
    "frame_duration = 1000 / fps\n",
    "\n",
    "video_models = []\n",
    "\n",
    "frameNr = 0\n",
    "ret, prev_frame = capture.read()\n",
    "prev_frame_gray = cv2.cvtColor(prev_frame, cv2.COLOR_BGR2GRAY) if ret else None\n",
    "prev_start_time = 0\n",
    "start_time = 0\n",
    "\n",
    "while ret:\n",
    "    end_time = prev_start_time\n",
    "    prev_start_time = capture.get(cv2.CAP_PROP_POS_MSEC)\n",
    "\n",
    "    ret, frame = capture.read()\n",
    "    if not ret:\n",
    "        start_time = end_time + frame_duration\n",
    "        break\n",
    "    \n",
    "    start_time = prev_start_time\n",
    "    # Convert to grayscale for comparison\n",
    "    frame_gray = cv2.cvtColor(frame, cv2.COLOR_BGR2GRAY)\n",
    "\n",
    "    # Compare with the previous frame\n",
    "    if frameNr == 0 or frame_difference(prev_frame_gray, frame_gray):\n",
    "        end_time = capture.get(cv2.CAP_PROP_POS_MSEC)\n",
    "        cv2.imwrite(f'test_data/output_frames/frame.jpg', frame)\n",
    "        prev_frame_gray = frame_gray\n",
    "\n",
    "        # Define the path to the \"output_frames\" folder\n",
    "        folder_path = f'test_data/output_frames/'\n",
    "\n",
    "        # List all .jpg files in the folder\n",
    "        image_files = [os.path.join(folder_path, file) for file in os.listdir(folder_path) if file.endswith(\".jpg\")]\n",
    "\n",
    "        # Create an instance of the ImageCaptionLoader\n",
    "        loader = ImageCaptionLoader(images=image_files)\n",
    "\n",
    "        # Load captions for the images\n",
    "        list_docs = loader.load()\n",
    "\n",
    "        video_model = VideoModel(start_time, end_time, list_docs[len(list_docs) - 1].page_content)\n",
    "        video_models.append(video_model)\n",
    "\n",
    "        frameNr += 1\n",
    "\n",
    "# Release the video capture object\n",
    "capture.release()"
   ]
  },
  {
   "cell_type": "code",
   "execution_count": null,
   "metadata": {},
   "outputs": [],
   "source": [
    "for video_model in video_models:\n",
    "    print(video_model)"
   ]
  }
 ],
 "metadata": {
  "kernelspec": {
   "display_name": "Python 3",
   "language": "python",
   "name": "python3"
  },
  "language_info": {
   "codemirror_mode": {
    "name": "ipython",
    "version": 3
   },
   "file_extension": ".py",
   "mimetype": "text/x-python",
   "name": "python",
   "nbconvert_exporter": "python",
   "pygments_lexer": "ipython3",
   "version": "3.11.6"
  },
  "vscode": {
   "interpreter": {
    "hash": "b0fa6594d8f4cbf19f97940f81e996739fb7646882a419484c72d19e05852a7e"
   }
  }
 },
 "nbformat": 4,
 "nbformat_minor": 2
}
