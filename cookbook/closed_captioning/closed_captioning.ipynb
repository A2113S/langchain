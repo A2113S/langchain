{
 "cells": [
  {
   "cell_type": "markdown",
   "metadata": {},
   "source": [
    "# Closed Captioning\n",
    "Implements a feature using Langchain's image_captions.py and audio_speech_to_text.py to produce .srt files. This system will provide both subtitles and visual scene descriptions, essentially creating closed captioning.\n",
    "\n",
    "## Imports"
   ]
  },
  {
   "cell_type": "code",
   "execution_count": 9,
   "metadata": {},
   "outputs": [],
   "source": [
    "# imports for closed captioning\n",
    "from langchain.document_loaders import AssemblyAIAudioTranscriptLoader\n",
    "import cv2"
   ]
  },
  {
   "cell_type": "markdown",
   "metadata": {},
   "source": [
    "## Audio Speech to Text"
   ]
  },
  {
   "cell_type": "code",
   "execution_count": 8,
   "metadata": {},
   "outputs": [
    {
     "name": "stdout",
     "output_type": "stream",
     "text": [
      "That I aspire to be.\n"
     ]
    }
   ],
   "source": [
    "audio_file = \"test_data/test.mp3\"\n",
    "\n",
    "loader = AssemblyAIAudioTranscriptLoader(file_path=audio_file, api_key=\"f50c08e20ecd4544b175953636f0b936\")\n",
    "\n",
    "docs = loader.load()\n",
    "\n",
    "print(docs[0].page_content)"
   ]
  },
  {
   "attachments": {},
   "cell_type": "markdown",
   "metadata": {},
   "source": [
    "## Video Split to Frames"
   ]
  },
  {
   "cell_type": "code",
   "execution_count": 12,
   "metadata": {},
   "outputs": [],
   "source": [
    "capture = cv2.VideoCapture('test_data/video_test.mp4')\n",
    "\n",
    "frameNmbr = 0\n",
    "\n",
    "while (True):\n",
    "    # processing the frames\n",
    "    success, frame = capture.read()\n",
    " \n",
    "    if success:\n",
    "        cv2.imwrite(f'test_data/output_frames/frame_{frameNmbr}.jpg', frame)\n",
    " \n",
    "    else:\n",
    "        break\n",
    " \n",
    "    frameNmbr = frameNmbr+1\n",
    " \n",
    "capture.release()"
   ]
  }
 ],
 "metadata": {
  "kernelspec": {
   "display_name": "Python 3",
   "language": "python",
   "name": "python3"
  },
  "language_info": {
   "codemirror_mode": {
    "name": "ipython",
    "version": 3
   },
   "file_extension": ".py",
   "mimetype": "text/x-python",
   "name": "python",
   "nbconvert_exporter": "python",
   "pygments_lexer": "ipython3",
   "version": "3.11.6"
  },
  "vscode": {
   "interpreter": {
    "hash": "b0fa6594d8f4cbf19f97940f81e996739fb7646882a419484c72d19e05852a7e"
   }
  }
 },
 "nbformat": 4,
 "nbformat_minor": 2
}
